{
  "nbformat": 4,
  "nbformat_minor": 0,
  "metadata": {
    "colab": {
      "name": "Python Data Structures.ipynb",
      "provenance": [],
      "authorship_tag": "ABX9TyP1Z7iXEHsaLEqc0tHlOJHn",
      "include_colab_link": true
    },
    "kernelspec": {
      "name": "python3",
      "display_name": "Python 3"
    },
    "language_info": {
      "name": "python"
    }
  },
  "cells": [
    {
      "cell_type": "markdown",
      "metadata": {
        "id": "view-in-github",
        "colab_type": "text"
      },
      "source": [
        "<a href=\"https://colab.research.google.com/github/Rajesh-Research/datasharing/blob/master/Python_Data_Structures.ipynb\" target=\"_parent\"><img src=\"https://colab.research.google.com/assets/colab-badge.svg\" alt=\"Open In Colab\"/></a>"
      ]
    },
    {
      "cell_type": "markdown",
      "metadata": {
        "id": "DYqL2Q1yeiV_"
      },
      "source": [
        "**Python In-built Data Structures**"
      ]
    },
    {
      "cell_type": "markdown",
      "metadata": {
        "id": "vzUTKgKD2FFP"
      },
      "source": [
        "**Indexing**"
      ]
    },
    {
      "cell_type": "code",
      "metadata": {
        "colab": {
          "base_uri": "https://localhost:8080/"
        },
        "id": "FRuZS2zz2H83",
        "outputId": "273506a8-6e8d-4898-9633-bda794f4b446"
      },
      "source": [
        "x = 'Rajesh Kumar'\n",
        "print (x[3], x[9], x[0], x[6])"
      ],
      "execution_count": null,
      "outputs": [
        {
          "output_type": "stream",
          "text": [
            "e m R  \n"
          ],
          "name": "stdout"
        }
      ]
    },
    {
      "cell_type": "markdown",
      "metadata": {
        "id": "bskp72Sk3BKb"
      },
      "source": [
        "Why x[6] not shown as answer 'K'\n",
        "\n",
        "Beacuse it took the space as character number 6"
      ]
    },
    {
      "cell_type": "code",
      "metadata": {
        "colab": {
          "base_uri": "https://localhost:8080/"
        },
        "id": "71mVQQ-Z3QAz",
        "outputId": "992b283e-96fa-48fd-e84d-5a5705035a00"
      },
      "source": [
        "x = 'Rajesh Kumar'\n",
        "print (x[3], x[9], x[0], x[7])"
      ],
      "execution_count": null,
      "outputs": [
        {
          "output_type": "stream",
          "text": [
            "e m R K\n"
          ],
          "name": "stdout"
        }
      ]
    },
    {
      "cell_type": "markdown",
      "metadata": {
        "id": "ZdcLg6Jw3eiT"
      },
      "source": [
        "x[7] result  - 'K'"
      ]
    },
    {
      "cell_type": "code",
      "metadata": {
        "colab": {
          "base_uri": "https://localhost:8080/"
        },
        "id": "QLnubrFV2QdA",
        "outputId": "9c328fd2-6c4b-4d9a-835d-f1ff853b4c85"
      },
      "source": [
        "x = ['Rainy','Summer','Winter']\n",
        "print (x[2])\n",
        "print (x[0])"
      ],
      "execution_count": null,
      "outputs": [
        {
          "output_type": "stream",
          "text": [
            "Winter\n",
            "Rainy\n"
          ],
          "name": "stdout"
        }
      ]
    },
    {
      "cell_type": "markdown",
      "metadata": {
        "id": "oKWU-LG83oRs"
      },
      "source": [
        "**Adding or Concatenating**"
      ]
    },
    {
      "cell_type": "code",
      "metadata": {
        "colab": {
          "base_uri": "https://localhost:8080/"
        },
        "id": "y3xVJli23sfK",
        "outputId": "e493e1b8-89d3-4b5c-a90e-cfa04463a79a"
      },
      "source": [
        "x = 'Kakinada' + 'is a' + 'Smart' + 'city'\n",
        "print (x)"
      ],
      "execution_count": null,
      "outputs": [
        {
          "output_type": "stream",
          "text": [
            "Kakinadais aSmartcity\n"
          ],
          "name": "stdout"
        }
      ]
    },
    {
      "cell_type": "code",
      "metadata": {
        "colab": {
          "base_uri": "https://localhost:8080/"
        },
        "id": "z3jCBXXq4KB5",
        "outputId": "d68e6a1d-b0b7-4bbc-f15b-5519b5caf208"
      },
      "source": [
        "x = 'Kakinada ' + 'is a ' + 'Smart ' + 'city'\n",
        "print (x)"
      ],
      "execution_count": null,
      "outputs": [
        {
          "output_type": "stream",
          "text": [
            "Kakinada is a Smart city\n"
          ],
          "name": "stdout"
        }
      ]
    },
    {
      "cell_type": "markdown",
      "metadata": {
        "id": "jL8qQ5QU4R05"
      },
      "source": [
        "**Checking the characters / words with True / False**"
      ]
    },
    {
      "cell_type": "code",
      "metadata": {
        "colab": {
          "base_uri": "https://localhost:8080/"
        },
        "id": "BCASc4YW4VPa",
        "outputId": "ef168297-9f60-438f-9b7b-c68c2f03fb48"
      },
      "source": [
        "x = 'Bug in a Processor'\n",
        "print('u' in x)\n"
      ],
      "execution_count": null,
      "outputs": [
        {
          "output_type": "stream",
          "text": [
            "True\n"
          ],
          "name": "stdout"
        }
      ]
    },
    {
      "cell_type": "code",
      "metadata": {
        "colab": {
          "base_uri": "https://localhost:8080/"
        },
        "id": "XBSdncZY4rlq",
        "outputId": "2e21e222-1081-4924-91b0-8350a46d5666"
      },
      "source": [
        "x = 'Bug in a Processor'\n",
        "print('Z' in x)"
      ],
      "execution_count": null,
      "outputs": [
        {
          "output_type": "stream",
          "text": [
            "False\n"
          ],
          "name": "stdout"
        }
      ]
    },
    {
      "cell_type": "code",
      "metadata": {
        "colab": {
          "base_uri": "https://localhost:8080/"
        },
        "id": "CSv9QoFi4xNU",
        "outputId": "51e35fd4-3aee-4cb5-bcef-a52c1c4ddc20"
      },
      "source": [
        "x = ['Bug' , 'in' , 'a Processor']\n",
        "print('bug' in x)\n",
        "print('in' in x)\n",
        "print('a Processor' in x)\n",
        "print('a Processor' not in x)"
      ],
      "execution_count": null,
      "outputs": [
        {
          "output_type": "stream",
          "text": [
            "False\n",
            "True\n",
            "True\n",
            "False\n"
          ],
          "name": "stdout"
        }
      ]
    },
    {
      "cell_type": "markdown",
      "metadata": {
        "id": "NL6sLCUB6d3F"
      },
      "source": [
        "**Slicing**"
      ]
    },
    {
      "cell_type": "code",
      "metadata": {
        "colab": {
          "base_uri": "https://localhost:8080/"
        },
        "id": "AE6hQhlH6mjN",
        "outputId": "27f83478-e27c-4a2c-8342-680d6793e2c9"
      },
      "source": [
        "x = 'MicroProcessors'\n",
        "print(x[1:4])\n",
        "print(x[1:6:2])\n",
        "print(x[3:-1])\n",
        "print(x[:5])\n",
        "print(x[-1])\n",
        "print(x[-2:])\n",
        "print(x[:-2])"
      ],
      "execution_count": null,
      "outputs": [
        {
          "output_type": "stream",
          "text": [
            "icr\n",
            "irP\n",
            "roProcessor\n",
            "Micro\n",
            "s\n",
            "rs\n",
            "MicroProcesso\n"
          ],
          "name": "stdout"
        }
      ]
    },
    {
      "cell_type": "markdown",
      "metadata": {
        "id": "zP7f7kdY73uv"
      },
      "source": [
        "**Multiplication - Tuple**"
      ]
    },
    {
      "cell_type": "code",
      "metadata": {
        "colab": {
          "base_uri": "https://localhost:8080/"
        },
        "id": "0fypX6r38BN_",
        "outputId": "64c94205-7592-4ff1-ac31-b4a3bed6f3d7"
      },
      "source": [
        "x = 'code' * 3\n",
        "print(x)"
      ],
      "execution_count": null,
      "outputs": [
        {
          "output_type": "stream",
          "text": [
            "codecodecode\n"
          ],
          "name": "stdout"
        }
      ]
    },
    {
      "cell_type": "code",
      "metadata": {
        "colab": {
          "base_uri": "https://localhost:8080/"
        },
        "id": "23oBWc4R8MhF",
        "outputId": "ca5f1b2d-27a9-485b-cddc-a6b6e4ae22d4"
      },
      "source": [
        "x = ('code' * 3)\n",
        "print(x)"
      ],
      "execution_count": null,
      "outputs": [
        {
          "output_type": "stream",
          "text": [
            "codecodecode\n"
          ],
          "name": "stdout"
        }
      ]
    },
    {
      "cell_type": "code",
      "metadata": {
        "colab": {
          "base_uri": "https://localhost:8080/"
        },
        "id": "qqz-vx6A8WFA",
        "outputId": "e7471a58-2fcf-4579-9678-aa39240cdb72"
      },
      "source": [
        "x = ['code'] * 3\n",
        "print(x)"
      ],
      "execution_count": null,
      "outputs": [
        {
          "output_type": "stream",
          "text": [
            "['code', 'code', 'code']\n"
          ],
          "name": "stdout"
        }
      ]
    },
    {
      "cell_type": "code",
      "metadata": {
        "colab": {
          "base_uri": "https://localhost:8080/"
        },
        "id": "2d0Vb-Uw8hTO",
        "outputId": "fccdf54c-0fee-4691-af88-d715b16c6c40"
      },
      "source": [
        "x = [12, 5] * 4\n",
        "print(x)"
      ],
      "execution_count": null,
      "outputs": [
        {
          "output_type": "stream",
          "text": [
            "[12, 5, 12, 5, 12, 5, 12, 5]\n"
          ],
          "name": "stdout"
        }
      ]
    },
    {
      "cell_type": "code",
      "metadata": {
        "colab": {
          "base_uri": "https://localhost:8080/"
        },
        "id": "o3DCTYKA8ppu",
        "outputId": "6b950b1e-15dd-4838-86e5-4f5336633c1e"
      },
      "source": [
        "x = (12, 5) * 4\n",
        "print(x)"
      ],
      "execution_count": null,
      "outputs": [
        {
          "output_type": "stream",
          "text": [
            "(12, 5, 12, 5, 12, 5, 12, 5)\n"
          ],
          "name": "stdout"
        }
      ]
    },
    {
      "cell_type": "markdown",
      "metadata": {
        "id": "TeFSEm3rDh6K"
      },
      "source": [
        "**Item & Iterating**"
      ]
    },
    {
      "cell_type": "code",
      "metadata": {
        "colab": {
          "base_uri": "https://localhost:8080/"
        },
        "id": "prQL_0CLDvkU",
        "outputId": "df857221-202a-406c-c597-7a3c8e4ca214"
      },
      "source": [
        "x = [7,8,12]\n",
        "for item in x:\n",
        "  print(item)"
      ],
      "execution_count": null,
      "outputs": [
        {
          "output_type": "stream",
          "text": [
            "7\n",
            "8\n",
            "12\n"
          ],
          "name": "stdout"
        }
      ]
    },
    {
      "cell_type": "code",
      "metadata": {
        "colab": {
          "base_uri": "https://localhost:8080/"
        },
        "id": "PQ-fSFtJFHP8",
        "outputId": "b8bcedd5-a575-48e0-ddb7-c5cf07fc77b4"
      },
      "source": [
        "x = [7,8,12]\n",
        "for index, item in enumerate (x):\n",
        "  print(index, item)"
      ],
      "execution_count": null,
      "outputs": [
        {
          "output_type": "stream",
          "text": [
            "0 7\n",
            "1 8\n",
            "2 12\n"
          ],
          "name": "stdout"
        }
      ]
    },
    {
      "cell_type": "markdown",
      "metadata": {
        "id": "lBYPboI6FjK5"
      },
      "source": [
        "**Minimum and Maximum**"
      ]
    },
    {
      "cell_type": "code",
      "metadata": {
        "colab": {
          "base_uri": "https://localhost:8080/"
        },
        "id": "jo5oPZDEFarE",
        "outputId": "eedd697f-71a9-4193-f230-2a47f52fd895"
      },
      "source": [
        "x = 'Processor'\n",
        "print (min(x))\n",
        "print (max(x))"
      ],
      "execution_count": null,
      "outputs": [
        {
          "output_type": "stream",
          "text": [
            "P\n",
            "s\n"
          ],
          "name": "stdout"
        }
      ]
    },
    {
      "cell_type": "code",
      "metadata": {
        "colab": {
          "base_uri": "https://localhost:8080/"
        },
        "id": "tJo1VFuBGJwS",
        "outputId": "43eb58a8-5fe4-4eb7-f6da-c269e7c590b6"
      },
      "source": [
        "x = ['Bug' , 'in' , 'a Processor']\n",
        "print (min(x))\n",
        "print (max(x))"
      ],
      "execution_count": null,
      "outputs": [
        {
          "output_type": "stream",
          "text": [
            "Bug\n",
            "in\n"
          ],
          "name": "stdout"
        }
      ]
    },
    {
      "cell_type": "markdown",
      "metadata": {
        "id": "qz0Z5vkTGT3y"
      },
      "source": [
        "**Length of the Word**"
      ]
    },
    {
      "cell_type": "code",
      "metadata": {
        "colab": {
          "base_uri": "https://localhost:8080/"
        },
        "id": "J38VYnaTGYaT",
        "outputId": "bec91c52-ab17-4ef2-e7dc-08b8d2f4e7ff"
      },
      "source": [
        "x = 'bug'\n",
        "print(len(x))"
      ],
      "execution_count": null,
      "outputs": [
        {
          "output_type": "stream",
          "text": [
            "3\n"
          ],
          "name": "stdout"
        }
      ]
    },
    {
      "cell_type": "code",
      "metadata": {
        "colab": {
          "base_uri": "https://localhost:8080/"
        },
        "id": "p4-c5M7RGmDu",
        "outputId": "ab575288-0c0c-4c89-a4dc-8d634c8b8117"
      },
      "source": [
        "x = ['Bug' , 'in' , 'a Processor']\n",
        "print(len(x))"
      ],
      "execution_count": null,
      "outputs": [
        {
          "output_type": "stream",
          "text": [
            "3\n"
          ],
          "name": "stdout"
        }
      ]
    },
    {
      "cell_type": "markdown",
      "metadata": {
        "id": "163oeFNbGyZK"
      },
      "source": [
        "**Strings**"
      ]
    },
    {
      "cell_type": "code",
      "metadata": {
        "colab": {
          "base_uri": "https://localhost:8080/"
        },
        "id": "PlwU1PfCG17b",
        "outputId": "2f7d2d31-00d0-4a0d-8311-da569df225fb"
      },
      "source": [
        "y = [2,5,89,93]\n",
        "print(sum(y))\n",
        "\n",
        "z = (32,64,128,256)\n",
        "print(sum(z))"
      ],
      "execution_count": null,
      "outputs": [
        {
          "output_type": "stream",
          "text": [
            "189\n",
            "480\n"
          ],
          "name": "stdout"
        }
      ]
    },
    {
      "cell_type": "code",
      "metadata": {
        "colab": {
          "base_uri": "https://localhost:8080/"
        },
        "id": "aR-f7UUwHZp3",
        "outputId": "81c3a605-e964-4cb0-bb9b-3a0382f0fab3"
      },
      "source": [
        "y = [2,5,89,93]\n",
        "print(sum(y[-2:]))"
      ],
      "execution_count": null,
      "outputs": [
        {
          "output_type": "stream",
          "text": [
            "182\n"
          ],
          "name": "stdout"
        }
      ]
    },
    {
      "cell_type": "code",
      "metadata": {
        "colab": {
          "base_uri": "https://localhost:8080/"
        },
        "id": "ytNGkfTUH5Id",
        "outputId": "7c34e9ae-0458-4781-8352-315e433a0e47"
      },
      "source": [
        "y = [2,5,89,93]\n",
        "print(sum(y[:2]))"
      ],
      "execution_count": null,
      "outputs": [
        {
          "output_type": "stream",
          "text": [
            "7\n"
          ],
          "name": "stdout"
        }
      ]
    },
    {
      "cell_type": "markdown",
      "metadata": {
        "id": "UNcsmCLFIOUD"
      },
      "source": [
        "**Sorting**"
      ]
    },
    {
      "cell_type": "code",
      "metadata": {
        "colab": {
          "base_uri": "https://localhost:8080/"
        },
        "id": "37jSZt4rIQt8",
        "outputId": "9afca085-6318-44be-f09f-afa3fa1bab91"
      },
      "source": [
        "x = 'processor'\n",
        "print(sorted(x))"
      ],
      "execution_count": null,
      "outputs": [
        {
          "output_type": "stream",
          "text": [
            "['c', 'e', 'o', 'o', 'p', 'r', 'r', 's', 's']\n"
          ],
          "name": "stdout"
        }
      ]
    },
    {
      "cell_type": "code",
      "metadata": {
        "colab": {
          "base_uri": "https://localhost:8080/"
        },
        "id": "LXGV65FaIje_",
        "outputId": "6380bc5d-de9a-4cf6-9d71-42cfbf326105"
      },
      "source": [
        "x = 'ProcEssoR'\n",
        "print(sorted(x))"
      ],
      "execution_count": null,
      "outputs": [
        {
          "output_type": "stream",
          "text": [
            "['E', 'P', 'R', 'c', 'o', 'o', 'r', 's', 's']\n"
          ],
          "name": "stdout"
        }
      ]
    },
    {
      "cell_type": "code",
      "metadata": {
        "colab": {
          "base_uri": "https://localhost:8080/"
        },
        "id": "6OTTEx3FIsEu",
        "outputId": "e2a906cb-39fe-45f7-8056-94a1f0e3a3c1"
      },
      "source": [
        "x = ['Bug' , 'in' , 'a Processor']\n",
        "print(sorted(x))"
      ],
      "execution_count": null,
      "outputs": [
        {
          "output_type": "stream",
          "text": [
            "['Bug', 'a Processor', 'in']\n"
          ],
          "name": "stdout"
        }
      ]
    },
    {
      "cell_type": "code",
      "metadata": {
        "colab": {
          "base_uri": "https://localhost:8080/"
        },
        "id": "7vtHRfZKI1i2",
        "outputId": "58a9c5cd-3b4c-400a-fe48-20d4dc15ec10"
      },
      "source": [
        "x = ['Rajesh' , 'Veera' , 'Kumar', 'Korupalli']\n",
        "print(sorted(x))"
      ],
      "execution_count": null,
      "outputs": [
        {
          "output_type": "stream",
          "text": [
            "['Korupalli', 'Kumar', 'Rajesh', 'Veera']\n"
          ],
          "name": "stdout"
        }
      ]
    },
    {
      "cell_type": "code",
      "metadata": {
        "colab": {
          "base_uri": "https://localhost:8080/"
        },
        "id": "Uk129OmTJF8r",
        "outputId": "b6ce8698-ef2b-4a37-fa11-1264aa9fcbf4"
      },
      "source": [
        "x = ['Rajesh' , 'Veera' , 'Kumar', 'Korupalli']\n",
        "print(sorted(x, key = lambda k:k[2]))"
      ],
      "execution_count": null,
      "outputs": [
        {
          "output_type": "stream",
          "text": [
            "['Veera', 'Rajesh', 'Kumar', 'Korupalli']\n"
          ],
          "name": "stdout"
        }
      ]
    },
    {
      "cell_type": "markdown",
      "metadata": {
        "id": "0AtFpL8GLOcd"
      },
      "source": [
        "**Counting**"
      ]
    },
    {
      "cell_type": "code",
      "metadata": {
        "colab": {
          "base_uri": "https://localhost:8080/"
        },
        "id": "lTafoB3dJ6hW",
        "outputId": "2278e731-6e90-480b-f87a-37703fdf38a8"
      },
      "source": [
        "x ='Processor'\n",
        "print(x.count('p'))\n",
        "print(x.count('P'))\n",
        "print(x.count('s'))\n",
        "print(x.count('o'))"
      ],
      "execution_count": null,
      "outputs": [
        {
          "output_type": "stream",
          "text": [
            "0\n",
            "1\n",
            "2\n",
            "2\n"
          ],
          "name": "stdout"
        }
      ]
    },
    {
      "cell_type": "markdown",
      "metadata": {
        "id": "X2MkTYKPLRHu"
      },
      "source": [
        "**Unpacking**"
      ]
    },
    {
      "cell_type": "code",
      "metadata": {
        "colab": {
          "base_uri": "https://localhost:8080/"
        },
        "id": "nv1mEsyvK7e1",
        "outputId": "9478bfe5-575e-4b2c-c1ab-4df53dbc2a52"
      },
      "source": [
        "x = ['Rajesh' , 'Veera' , 'Kumar', 'Korupalli']\n",
        "a,b,c,d = x\n",
        "print(a,b,c,d)"
      ],
      "execution_count": null,
      "outputs": [
        {
          "output_type": "stream",
          "text": [
            "Rajesh Veera Kumar Korupalli\n"
          ],
          "name": "stdout"
        }
      ]
    },
    {
      "cell_type": "code",
      "metadata": {
        "colab": {
          "base_uri": "https://localhost:8080/"
        },
        "id": "g5MOq8kLLIla",
        "outputId": "a06e1ab8-ce73-4672-c68d-ec535d1927a9"
      },
      "source": [
        "x = ['Rajesh' , 'Veera' , 'Kumar', 'Korupalli']\n",
        "a,b,c,d = x\n",
        "print(a,b,d)"
      ],
      "execution_count": null,
      "outputs": [
        {
          "output_type": "stream",
          "text": [
            "Rajesh Veera Korupalli\n"
          ],
          "name": "stdout"
        }
      ]
    },
    {
      "cell_type": "markdown",
      "metadata": {
        "id": "iXajMft5LT4N"
      },
      "source": [
        "**Lists**"
      ]
    },
    {
      "cell_type": "code",
      "metadata": {
        "colab": {
          "base_uri": "https://localhost:8080/"
        },
        "id": "68SEBc45MWtZ",
        "outputId": "fbb2c5bd-1bd5-4db7-8007-db5d890813d7"
      },
      "source": [
        "List = ['a', 'raj', 'kkd', 501, 28.363]\n",
        "z = List\n",
        "print(z)"
      ],
      "execution_count": null,
      "outputs": [
        {
          "output_type": "stream",
          "text": [
            "['a', 'raj', 'kkd', 501, 28.363]\n"
          ],
          "name": "stdout"
        }
      ]
    },
    {
      "cell_type": "code",
      "metadata": {
        "colab": {
          "base_uri": "https://localhost:8080/"
        },
        "id": "KYVYOsMhOdij",
        "outputId": "b524b746-357d-45fc-b972-1ea5c3b10fc8"
      },
      "source": [
        "ze = (10,25,'raj')\n",
        "z = list(ze)\n",
        "print(z)"
      ],
      "execution_count": null,
      "outputs": [
        {
          "output_type": "stream",
          "text": [
            "[10, 25, 'raj']\n"
          ],
          "name": "stdout"
        }
      ]
    },
    {
      "cell_type": "code",
      "metadata": {
        "colab": {
          "base_uri": "https://localhost:8080/"
        },
        "id": "eupJUmjqOx_6",
        "outputId": "83598909-b356-4422-ed37-162577542bf7"
      },
      "source": [
        "List = ['a', 'raj', 'kkd', 501, 28.363]\n",
        "z = List\n",
        "print(len(z))"
      ],
      "execution_count": null,
      "outputs": [
        {
          "output_type": "stream",
          "text": [
            "5\n"
          ],
          "name": "stdout"
        }
      ]
    },
    {
      "cell_type": "markdown",
      "metadata": {
        "id": "pPOLgpOhPqFW"
      },
      "source": [
        "**Delete**"
      ]
    },
    {
      "cell_type": "code",
      "metadata": {
        "colab": {
          "base_uri": "https://localhost:8080/"
        },
        "id": "l3qKrnnnO-X5",
        "outputId": "b68b80f6-138e-41bb-c79c-2f8d9a4debd1"
      },
      "source": [
        "List = ['a', 'raj', 'kkd', 501, 28.363]\n",
        "z = List\n",
        "del(z[2])\n",
        "print(z)"
      ],
      "execution_count": null,
      "outputs": [
        {
          "output_type": "stream",
          "text": [
            "['a', 'raj', 501, 28.363]\n"
          ],
          "name": "stdout"
        }
      ]
    },
    {
      "cell_type": "markdown",
      "metadata": {
        "id": "iyHTFOhHPtw0"
      },
      "source": [
        "**Append & Extend**"
      ]
    },
    {
      "cell_type": "code",
      "metadata": {
        "colab": {
          "base_uri": "https://localhost:8080/"
        },
        "id": "o8M1o8MzPoeG",
        "outputId": "39872a93-1583-458a-ebb0-6a349269f570"
      },
      "source": [
        "z.append(26)\n",
        "print(z)"
      ],
      "execution_count": null,
      "outputs": [
        {
          "output_type": "stream",
          "text": [
            "['a', 'raj', 501, 28.363, 26]\n"
          ],
          "name": "stdout"
        }
      ]
    },
    {
      "cell_type": "code",
      "metadata": {
        "colab": {
          "base_uri": "https://localhost:8080/"
        },
        "id": "kbKAcarIP8uw",
        "outputId": "976b6972-25cf-4868-d207-73ecafa1a558"
      },
      "source": [
        "y = ['kumar', 786]\n",
        "z.extend(y)\n",
        "print(z)"
      ],
      "execution_count": null,
      "outputs": [
        {
          "output_type": "stream",
          "text": [
            "['a', 'raj', 501, 28.363, 26, 'kumar', 786]\n"
          ],
          "name": "stdout"
        }
      ]
    },
    {
      "cell_type": "markdown",
      "metadata": {
        "id": "4TjUV_vVQSzR"
      },
      "source": [
        "**Insert**"
      ]
    },
    {
      "cell_type": "code",
      "metadata": {
        "colab": {
          "base_uri": "https://localhost:8080/"
        },
        "id": "891BXbbWQc7O",
        "outputId": "976e7814-113b-4bfd-b687-7d3c120a586f"
      },
      "source": [
        "x = ['a', 'raj', 'kkd', 501, 28.363]\n",
        "x.insert(1, 36)\n",
        "print(x)"
      ],
      "execution_count": null,
      "outputs": [
        {
          "output_type": "stream",
          "text": [
            "['a', 36, 'raj', 'kkd', 501, 28.363]\n"
          ],
          "name": "stdout"
        }
      ]
    },
    {
      "cell_type": "code",
      "metadata": {
        "colab": {
          "base_uri": "https://localhost:8080/"
        },
        "id": "LjiBXi3TRIKc",
        "outputId": "e7d9cccd-a9f6-483a-b816-7399d0e794a6"
      },
      "source": [
        "x = ['a', 'raj', 'kkd', 501, 28.363]\n",
        "x.insert(4., 36)\n",
        "print(x)"
      ],
      "execution_count": null,
      "outputs": [
        {
          "output_type": "stream",
          "text": [
            "['a', 'raj', 'kkd', 501, 36, 28.363]\n"
          ],
          "name": "stdout"
        }
      ]
    },
    {
      "cell_type": "code",
      "metadata": {
        "colab": {
          "base_uri": "https://localhost:8080/"
        },
        "id": "NhyUQURWavJc",
        "outputId": "ec7c0c0c-6b8b-45b5-9ad4-81c89a0b11d1"
      },
      "source": [
        "print(x[-1])"
      ],
      "execution_count": null,
      "outputs": [
        {
          "output_type": "stream",
          "text": [
            "28.363\n"
          ],
          "name": "stdout"
        }
      ]
    },
    {
      "cell_type": "code",
      "metadata": {
        "colab": {
          "base_uri": "https://localhost:8080/"
        },
        "id": "iztFIzSib31Y",
        "outputId": "3e5355be-a558-4f21-c830-3f3b01c3087c"
      },
      "source": [
        "x = ['a', 'raj', 'kkd', 501, 28.363, 5, 23,56, 89, 98, 'korupalli']\n",
        "print(x)\n",
        "for i in range(501, 98):\n",
        "  x.remove(i)\n",
        "print(x)"
      ],
      "execution_count": null,
      "outputs": [
        {
          "output_type": "stream",
          "text": [
            "['a', 'raj', 'kkd', 501, 28.363, 5, 23, 56, 89, 98, 'korupalli']\n",
            "['a', 'raj', 'kkd', 501, 28.363, 5, 23, 56, 89, 98, 'korupalli']\n"
          ],
          "name": "stdout"
        }
      ]
    },
    {
      "cell_type": "markdown",
      "metadata": {
        "id": "kivKTxl2c5tr"
      },
      "source": [
        "**PoP**"
      ]
    },
    {
      "cell_type": "code",
      "metadata": {
        "colab": {
          "base_uri": "https://localhost:8080/",
          "height": 35
        },
        "id": "iWofR2ibdBH3",
        "outputId": "2de178c1-9f6a-4f0c-ea97-9e5225d4a600"
      },
      "source": [
        "x.pop()"
      ],
      "execution_count": null,
      "outputs": [
        {
          "output_type": "execute_result",
          "data": {
            "application/vnd.google.colaboratory.intrinsic+json": {
              "type": "string"
            },
            "text/plain": [
              "'korupalli'"
            ]
          },
          "metadata": {
            "tags": []
          },
          "execution_count": 94
        }
      ]
    },
    {
      "cell_type": "code",
      "metadata": {
        "colab": {
          "base_uri": "https://localhost:8080/",
          "height": 35
        },
        "id": "PMiZFxbWdGpG",
        "outputId": "189bc207-3f8c-4be8-da96-c3bf82dfa73a"
      },
      "source": [
        "x.pop(2)"
      ],
      "execution_count": null,
      "outputs": [
        {
          "output_type": "execute_result",
          "data": {
            "application/vnd.google.colaboratory.intrinsic+json": {
              "type": "string"
            },
            "text/plain": [
              "'kkd'"
            ]
          },
          "metadata": {
            "tags": []
          },
          "execution_count": 95
        }
      ]
    },
    {
      "cell_type": "markdown",
      "metadata": {
        "id": "bidti28Rd2LC"
      },
      "source": [
        "**Remove**"
      ]
    },
    {
      "cell_type": "code",
      "metadata": {
        "colab": {
          "base_uri": "https://localhost:8080/"
        },
        "id": "Vd6aH8_tdTgI",
        "outputId": "1c9c6e70-5518-470f-e0d5-74ebb291e93b"
      },
      "source": [
        "x.remove(501)\n",
        "print(x)"
      ],
      "execution_count": null,
      "outputs": [
        {
          "output_type": "stream",
          "text": [
            "['a', 'raj', 28.363, 5, 23, 56, 89, 98]\n"
          ],
          "name": "stdout"
        }
      ]
    },
    {
      "cell_type": "markdown",
      "metadata": {
        "id": "YRfWaRexedLa"
      },
      "source": [
        "**Reverse**"
      ]
    },
    {
      "cell_type": "code",
      "metadata": {
        "colab": {
          "base_uri": "https://localhost:8080/"
        },
        "id": "51xtn8xieL_Q",
        "outputId": "9ad500f5-6701-4213-f7bc-bcce505a6586"
      },
      "source": [
        "x.reverse()\n",
        "print(x)"
      ],
      "execution_count": null,
      "outputs": [
        {
          "output_type": "stream",
          "text": [
            "[98, 89, 56, 23, 5, 28.363, 'raj', 'a']\n"
          ],
          "name": "stdout"
        }
      ]
    },
    {
      "cell_type": "code",
      "metadata": {
        "colab": {
          "base_uri": "https://localhost:8080/"
        },
        "id": "c9RWky8IfF5r",
        "outputId": "88909d79-34c4-4016-a866-5a8dcfcca570"
      },
      "source": [
        "x = [98, 89, 56, 23, 5, 28.363]\n",
        "x.sort()\n",
        "print(x)"
      ],
      "execution_count": null,
      "outputs": [
        {
          "output_type": "stream",
          "text": [
            "[5, 23, 28.363, 56, 89, 98]\n"
          ],
          "name": "stdout"
        }
      ]
    },
    {
      "cell_type": "code",
      "metadata": {
        "colab": {
          "base_uri": "https://localhost:8080/"
        },
        "id": "j9YfK7StfnO5",
        "outputId": "25b258f0-c5b4-43f4-a3e7-49ba697d223c"
      },
      "source": [
        "x.sort(reverse = True)\n",
        "print(x)"
      ],
      "execution_count": null,
      "outputs": [
        {
          "output_type": "stream",
          "text": [
            "[98, 89, 56, 28.363, 23, 5]\n"
          ],
          "name": "stdout"
        }
      ]
    },
    {
      "cell_type": "markdown",
      "metadata": {
        "id": "aF9Je71Uf8wZ"
      },
      "source": [
        "**Sets**"
      ]
    },
    {
      "cell_type": "code",
      "metadata": {
        "colab": {
          "base_uri": "https://localhost:8080/"
        },
        "id": "-O98bum5gMDW",
        "outputId": "bf3108e4-7805-4dc8-b5f7-5b4ef90befe0"
      },
      "source": [
        "x ={3,5,8,3,6}\n",
        "print(x)\n",
        "y = set(x)\n",
        "print(y)\n",
        "\n",
        "list1 = [2,9,12]\n",
        "z = set(list1)\n",
        "print(z)"
      ],
      "execution_count": null,
      "outputs": [
        {
          "output_type": "stream",
          "text": [
            "{8, 3, 5, 6}\n",
            "{8, 3, 5, 6}\n",
            "{9, 2, 12}\n"
          ],
          "name": "stdout"
        }
      ]
    },
    {
      "cell_type": "markdown",
      "metadata": {
        "id": "JvFwY2vnhyDd"
      },
      "source": [
        "**Sets are Un-duplicated or unordered**"
      ]
    },
    {
      "cell_type": "code",
      "metadata": {
        "colab": {
          "base_uri": "https://localhost:8080/"
        },
        "id": "eCa23c6hh6Qt",
        "outputId": "ccc54f7f-51e4-45da-a906-99421733cd20"
      },
      "source": [
        "y ={3,8,5,11}\n",
        "y.add(4)\n",
        "print(y)"
      ],
      "execution_count": null,
      "outputs": [
        {
          "output_type": "stream",
          "text": [
            "{3, 4, 5, 8, 11}\n"
          ],
          "name": "stdout"
        }
      ]
    },
    {
      "cell_type": "code",
      "metadata": {
        "colab": {
          "base_uri": "https://localhost:8080/"
        },
        "id": "nGh0a1sWiY_B",
        "outputId": "3d7dc057-370d-4974-f8ae-71f1d5e28751"
      },
      "source": [
        "y ={3,4,8,5,11}\n",
        "y.remove(5)\n",
        "print(y)"
      ],
      "execution_count": null,
      "outputs": [
        {
          "output_type": "stream",
          "text": [
            "{3, 4, 8, 11}\n"
          ],
          "name": "stdout"
        }
      ]
    },
    {
      "cell_type": "code",
      "metadata": {
        "colab": {
          "base_uri": "https://localhost:8080/"
        },
        "id": "NugKS7L8ikL8",
        "outputId": "dd2e95f8-5067-4f56-fbe5-aedb74a00b3c"
      },
      "source": [
        "print (4 in y)"
      ],
      "execution_count": null,
      "outputs": [
        {
          "output_type": "stream",
          "text": [
            "True\n"
          ],
          "name": "stdout"
        }
      ]
    },
    {
      "cell_type": "code",
      "metadata": {
        "colab": {
          "base_uri": "https://localhost:8080/"
        },
        "id": "RGRWoXxRisNz",
        "outputId": "70283a81-8475-44d0-8985-857009d67c45"
      },
      "source": [
        "print (12 in y)"
      ],
      "execution_count": null,
      "outputs": [
        {
          "output_type": "stream",
          "text": [
            "False\n"
          ],
          "name": "stdout"
        }
      ]
    },
    {
      "cell_type": "code",
      "metadata": {
        "colab": {
          "base_uri": "https://localhost:8080/"
        },
        "id": "RPgJTjQTiwmq",
        "outputId": "517f947a-d4db-4bfa-dbf1-3ea2291a9609"
      },
      "source": [
        "print(y.pop(),y)"
      ],
      "execution_count": null,
      "outputs": [
        {
          "output_type": "stream",
          "text": [
            "3 {4, 8, 11}\n"
          ],
          "name": "stdout"
        }
      ]
    },
    {
      "cell_type": "code",
      "metadata": {
        "id": "417vEP_1i3kL"
      },
      "source": [
        "y.clear()"
      ],
      "execution_count": null,
      "outputs": []
    },
    {
      "cell_type": "code",
      "metadata": {
        "colab": {
          "base_uri": "https://localhost:8080/"
        },
        "id": "COHlDT6Ji8sT",
        "outputId": "e38e18a0-b127-45df-c9f6-9ea3e395805b"
      },
      "source": [
        "print(y)"
      ],
      "execution_count": null,
      "outputs": [
        {
          "output_type": "stream",
          "text": [
            "set()\n"
          ],
          "name": "stdout"
        }
      ]
    },
    {
      "cell_type": "markdown",
      "metadata": {
        "id": "Q-6UmeMRjWV2"
      },
      "source": [
        "**Dictionaries**"
      ]
    },
    {
      "cell_type": "code",
      "metadata": {
        "colab": {
          "base_uri": "https://localhost:8080/"
        },
        "id": "Kr25QgdyjZUm",
        "outputId": "a7006621-6c98-48fc-8042-409da00d4f25"
      },
      "source": [
        "x = {'stack':25.3, 'rom':36.3, 'ram':45.36}\n",
        "print(x)"
      ],
      "execution_count": null,
      "outputs": [
        {
          "output_type": "stream",
          "text": [
            "{'stack': 25.3, 'rom': 36.3, 'ram': 45.36}\n"
          ],
          "name": "stdout"
        }
      ]
    },
    {
      "cell_type": "code",
      "metadata": {
        "colab": {
          "base_uri": "https://localhost:8080/"
        },
        "id": "22ywH1afkBOG",
        "outputId": "465b7990-35d6-49d8-a8c2-b4c6911af2ec"
      },
      "source": [
        "x = dict([('stack',25.3), ('rom',36.3), ('ram',45.36)])\n",
        "print(x)"
      ],
      "execution_count": null,
      "outputs": [
        {
          "output_type": "stream",
          "text": [
            "{'stack': 25.3, 'rom': 36.3, 'ram': 45.36}\n"
          ],
          "name": "stdout"
        }
      ]
    },
    {
      "cell_type": "code",
      "metadata": {
        "colab": {
          "base_uri": "https://localhost:8080/"
        },
        "id": "S0PedICBkkGl",
        "outputId": "a91b30bb-4667-46c9-b4d7-71f795324f6e"
      },
      "source": [
        "x = dict(stack = 25.3, rom = 36.3, ram = 45.36)\n",
        "print(x)"
      ],
      "execution_count": null,
      "outputs": [
        {
          "output_type": "stream",
          "text": [
            "{'stack': 25.3, 'rom': 36.3, 'ram': 45.36}\n"
          ],
          "name": "stdout"
        }
      ]
    },
    {
      "cell_type": "markdown",
      "metadata": {
        "id": "rGhEMLUzlBbn"
      },
      "source": [
        "**Keys and Values**"
      ]
    },
    {
      "cell_type": "code",
      "metadata": {
        "colab": {
          "base_uri": "https://localhost:8080/"
        },
        "id": "mTdSCyfilHIg",
        "outputId": "79829d0c-24fc-40bd-b2df-be9cd7793260"
      },
      "source": [
        "print(x.keys())"
      ],
      "execution_count": null,
      "outputs": [
        {
          "output_type": "stream",
          "text": [
            "dict_keys(['stack', 'rom', 'ram'])\n"
          ],
          "name": "stdout"
        }
      ]
    },
    {
      "cell_type": "code",
      "metadata": {
        "colab": {
          "base_uri": "https://localhost:8080/"
        },
        "id": "Z4idr3g8lilK",
        "outputId": "a76b8c9b-e9e6-4f34-a13b-b29c7ee00045"
      },
      "source": [
        "print(x.values())"
      ],
      "execution_count": null,
      "outputs": [
        {
          "output_type": "stream",
          "text": [
            "dict_values([25.3, 36.3, 45.36])\n"
          ],
          "name": "stdout"
        }
      ]
    },
    {
      "cell_type": "code",
      "metadata": {
        "id": "YwprO42Elp6Y",
        "colab": {
          "base_uri": "https://localhost:8080/"
        },
        "outputId": "af43d0d8-9dda-470b-d91f-74080f7a58de"
      },
      "source": [
        "print(x.items())"
      ],
      "execution_count": 124,
      "outputs": [
        {
          "output_type": "stream",
          "text": [
            "dict_items([('stack', 25.3), ('rom', 36.3), ('ram', 45.36)])\n"
          ],
          "name": "stdout"
        }
      ]
    },
    {
      "cell_type": "code",
      "metadata": {
        "id": "ODvuNoZGlykv",
        "colab": {
          "base_uri": "https://localhost:8080/"
        },
        "outputId": "b3dd98de-54bb-4ba5-de62-4771b8e66c01"
      },
      "source": [
        "print('stack' in x)"
      ],
      "execution_count": 125,
      "outputs": [
        {
          "output_type": "stream",
          "text": [
            "True\n"
          ],
          "name": "stdout"
        }
      ]
    },
    {
      "cell_type": "code",
      "metadata": {
        "id": "mFI17qhHl_3p",
        "colab": {
          "base_uri": "https://localhost:8080/"
        },
        "outputId": "334b19f6-d2ad-4d22-9427-15237c0f0d83"
      },
      "source": [
        "for key in x:\n",
        "  print(key, x[key])\n",
        "  "
      ],
      "execution_count": 126,
      "outputs": [
        {
          "output_type": "stream",
          "text": [
            "stack 25.3\n",
            "rom 36.3\n",
            "ram 45.36\n"
          ],
          "name": "stdout"
        }
      ]
    },
    {
      "cell_type": "markdown",
      "metadata": {
        "id": "Lcp31MVAnJqu"
      },
      "source": [
        "**End of Data Strucutres**"
      ]
    }
  ]
}