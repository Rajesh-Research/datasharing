{
  "nbformat": 4,
  "nbformat_minor": 0,
  "metadata": {
    "colab": {
      "name": "Handwritten Recognition.ipynb",
      "provenance": [],
      "authorship_tag": "ABX9TyO6uqo5oJBmZ+xist4fkmy6",
      "include_colab_link": true
    },
    "kernelspec": {
      "name": "python3",
      "display_name": "Python 3"
    },
    "language_info": {
      "name": "python"
    }
  },
  "cells": [
    {
      "cell_type": "markdown",
      "metadata": {
        "id": "view-in-github",
        "colab_type": "text"
      },
      "source": [
        "<a href=\"https://colab.research.google.com/github/Rajesh-Research/datasharing/blob/master/Handwritten_Recognition.ipynb\" target=\"_parent\"><img src=\"https://colab.research.google.com/assets/colab-badge.svg\" alt=\"Open In Colab\"/></a>"
      ]
    },
    {
      "cell_type": "code",
      "metadata": {
        "colab": {
          "base_uri": "https://localhost:8080/"
        },
        "id": "1SCSJH0nR6MS",
        "outputId": "8aeb6fca-639e-4e38-83f9-8e2e5507367d"
      },
      "source": [
        "!pip install numpy"
      ],
      "execution_count": 1,
      "outputs": [
        {
          "output_type": "stream",
          "text": [
            "Requirement already satisfied: numpy in /usr/local/lib/python3.7/dist-packages (1.19.5)\n"
          ],
          "name": "stdout"
        }
      ]
    },
    {
      "cell_type": "code",
      "metadata": {
        "id": "mYrZOv5bSayh"
      },
      "source": [
        "import keras\n",
        "from keras.datasets import mnist\n",
        "from keras.models import Sequential\n",
        "from keras.layers import Dense, Dropout, Flatten\n",
        "from keras.layers import Conv2D, MaxPooling2D\n",
        "from keras import backend as K\n",
        "import keras.utils\n",
        "from keras import utils as np_utils\n",
        "from keras import losses \n",
        "from keras import optimizers \n",
        "from keras import metrics"
      ],
      "execution_count": 11,
      "outputs": []
    },
    {
      "cell_type": "code",
      "metadata": {
        "colab": {
          "base_uri": "https://localhost:8080/"
        },
        "id": "fsayyRu2Sflq",
        "outputId": "89171310-9d13-413a-b8dc-67e6ba8142f1"
      },
      "source": [
        "(x_train, y_train), (x_test, y_test) = mnist.load_data()\n",
        "print(x_train.shape, y_train.shape)"
      ],
      "execution_count": 12,
      "outputs": [
        {
          "output_type": "stream",
          "text": [
            "(60000, 28, 28) (60000,)\n"
          ],
          "name": "stdout"
        }
      ]
    },
    {
      "cell_type": "code",
      "metadata": {
        "id": "g9qKfW7VSlTk"
      },
      "source": [
        "x_train = x_train.reshape(x_train.shape[0], 28, 28, 1)\n",
        "x_test = x_test.reshape(x_test.shape[0], 28, 28, 1)\n",
        "\n",
        "input_shape = (28, 28, 1)"
      ],
      "execution_count": 13,
      "outputs": []
    },
    {
      "cell_type": "code",
      "metadata": {
        "colab": {
          "base_uri": "https://localhost:8080/"
        },
        "id": "usbd93RDSxRB",
        "outputId": "d19e583f-8878-43a9-8990-243ec8aba928"
      },
      "source": [
        "y_train = keras.utils.to_categorical(y_train, 10)\n",
        "y_test = keras.utils.to_categorical(y_test, 10)\n",
        "x_train = x_train.astype('float32')\n",
        "x_test = x_test.astype('float32')\n",
        "x_train /= 255\n",
        "x_test /= 255\n",
        "print('x_train shape:', x_train.shape)\n",
        "print(x_train.shape[0], 'train samples')\n",
        "print(x_test.shape[0], 'test samples')"
      ],
      "execution_count": 14,
      "outputs": [
        {
          "output_type": "stream",
          "text": [
            "x_train shape: (60000, 28, 28, 1)\n",
            "60000 train samples\n",
            "10000 test samples\n"
          ],
          "name": "stdout"
        }
      ]
    },
    {
      "cell_type": "code",
      "metadata": {
        "id": "oqD_WCbWUFwC"
      },
      "source": [
        "batch_size = 180\n",
        "num_classes = 10\n",
        "epochs = 10\n",
        "model = Sequential()\n",
        "model.add(Conv2D(32, kernel_size=(3, 3),activation='relu',input_shape=input_shape))\n",
        "model.add(Conv2D(64, (3, 3), activation='relu'))\n",
        "model.add(MaxPooling2D(pool_size=(2, 2)))\n",
        "model.add(Dropout(0.25))\n",
        "model.add(Flatten())\n",
        "model.add(Dense(256, activation='relu'))\n",
        "model.add(Dropout(0.5))\n",
        "model.add(Dense(num_classes, activation='softmax'))"
      ],
      "execution_count": 18,
      "outputs": []
    },
    {
      "cell_type": "code",
      "metadata": {
        "id": "bm6ONr4QUVUc"
      },
      "source": [
        "model.compile(loss=keras.losses.categorical_crossentropy,optimizer=keras.optimizers.Adadelta(),metrics=['accuracy'])"
      ],
      "execution_count": 19,
      "outputs": []
    },
    {
      "cell_type": "code",
      "metadata": {
        "colab": {
          "base_uri": "https://localhost:8080/"
        },
        "id": "HN3NZdC5UZs2",
        "outputId": "611feef9-993c-460c-9174-5106820952c1"
      },
      "source": [
        "hist = model.fit(x_train, y_train,batch_size=batch_size,epochs=epochs,verbose=1,validation_data=(x_test, y_test))\n",
        "print(\"Rajesh Kumar's model - has successfully trained\")"
      ],
      "execution_count": 20,
      "outputs": [
        {
          "output_type": "stream",
          "text": [
            "Epoch 1/10\n",
            "334/334 [==============================] - 149s 445ms/step - loss: 2.2992 - accuracy: 0.1086 - val_loss: 2.2516 - val_accuracy: 0.2547\n",
            "Epoch 2/10\n",
            "334/334 [==============================] - 148s 443ms/step - loss: 2.2489 - accuracy: 0.1970 - val_loss: 2.1895 - val_accuracy: 0.4569\n",
            "Epoch 3/10\n",
            "334/334 [==============================] - 149s 445ms/step - loss: 2.1907 - accuracy: 0.3067 - val_loss: 2.1122 - val_accuracy: 0.6091\n",
            "Epoch 4/10\n",
            "334/334 [==============================] - 149s 446ms/step - loss: 2.1157 - accuracy: 0.4128 - val_loss: 2.0117 - val_accuracy: 0.6961\n",
            "Epoch 5/10\n",
            "334/334 [==============================] - 149s 446ms/step - loss: 2.0172 - accuracy: 0.4985 - val_loss: 1.8784 - val_accuracy: 0.7433\n",
            "Epoch 6/10\n",
            "334/334 [==============================] - 149s 446ms/step - loss: 1.8892 - accuracy: 0.5670 - val_loss: 1.7076 - val_accuracy: 0.7713\n",
            "Epoch 7/10\n",
            "334/334 [==============================] - 148s 444ms/step - loss: 1.7271 - accuracy: 0.6157 - val_loss: 1.5072 - val_accuracy: 0.7858\n",
            "Epoch 8/10\n",
            "334/334 [==============================] - 149s 445ms/step - loss: 1.5521 - accuracy: 0.6464 - val_loss: 1.2988 - val_accuracy: 0.7985\n",
            "Epoch 9/10\n",
            "334/334 [==============================] - 148s 444ms/step - loss: 1.3742 - accuracy: 0.6708 - val_loss: 1.1084 - val_accuracy: 0.8096\n",
            "Epoch 10/10\n",
            "334/334 [==============================] - 147s 442ms/step - loss: 1.2135 - accuracy: 0.6895 - val_loss: 0.9528 - val_accuracy: 0.8191\n",
            "The model has successfully trained\n"
          ],
          "name": "stdout"
        }
      ]
    },
    {
      "cell_type": "code",
      "metadata": {
        "colab": {
          "base_uri": "https://localhost:8080/"
        },
        "id": "9UwTjLAWXBVG",
        "outputId": "e63172d7-cc4e-4b63-ee74-303dbdd1b93a"
      },
      "source": [
        "score = model.evaluate(x_test, y_test, verbose=0)\n",
        "print('Test loss:', score[0])\n",
        "print('Test accuracy:', score[1])"
      ],
      "execution_count": 21,
      "outputs": [
        {
          "output_type": "stream",
          "text": [
            "Test loss: 0.9528169631958008\n",
            "Test accuracy: 0.819100022315979\n"
          ],
          "name": "stdout"
        }
      ]
    },
    {
      "cell_type": "code",
      "metadata": {
        "id": "XfbT1qGWAPo7"
      },
      "source": [
        "pred = model.predict(x_test) \n",
        "pred = np.argmax(pred, axis = 1)[:5] \n",
        "label = np.argmax(y_test,axis = 1)[:5] \n",
        "\n",
        "print(pred) \n",
        "print(label)"
      ],
      "execution_count": null,
      "outputs": []
    },
    {
      "cell_type": "code",
      "metadata": {
        "id": "ioi3efKS5c7T"
      },
      "source": [
        "from keras import optimizers\n",
        "from keras import metrics"
      ],
      "execution_count": 22,
      "outputs": []
    },
    {
      "cell_type": "code",
      "metadata": {
        "colab": {
          "base_uri": "https://localhost:8080/"
        },
        "id": "GQ2eSfAE5WP6",
        "outputId": "cf606579-e89a-45ee-b8a6-9ac963e39175"
      },
      "source": [
        "keras.optimizers.SGD(learning_rate = 0.01, momentum = 0.0, nesterov = False)"
      ],
      "execution_count": 23,
      "outputs": [
        {
          "output_type": "execute_result",
          "data": {
            "text/plain": [
              "<tensorflow.python.keras.optimizer_v2.gradient_descent.SGD at 0x7f7e98a88650>"
            ]
          },
          "metadata": {
            "tags": []
          },
          "execution_count": 23
        }
      ]
    },
    {
      "cell_type": "code",
      "metadata": {
        "id": "6Z1jBvH73wXr"
      },
      "source": [
        "model.compile(loss = 'mean_squared_error',   optimizer = 'sgd', metrics = [metrics.categorical_accuracy])"
      ],
      "execution_count": 24,
      "outputs": []
    },
    {
      "cell_type": "code",
      "metadata": {
        "colab": {
          "base_uri": "https://localhost:8080/"
        },
        "id": "J-sqg5b86j3F",
        "outputId": "2bdcbc32-b002-4140-8283-3c7562cf35da"
      },
      "source": [
        "hist2 = model.fit(x_train, y_train,batch_size=batch_size,epochs=epochs,verbose=1,validation_data=(x_test, y_test))\n",
        "print(\"Rajesh Kumar's model has successfully trained\")"
      ],
      "execution_count": 25,
      "outputs": [
        {
          "output_type": "stream",
          "text": [
            "Epoch 1/10\n",
            "334/334 [==============================] - 147s 440ms/step - loss: 0.0473 - categorical_accuracy: 0.7147 - val_loss: 0.0329 - val_categorical_accuracy: 0.8269\n",
            "Epoch 2/10\n",
            "334/334 [==============================] - 147s 440ms/step - loss: 0.0408 - categorical_accuracy: 0.7353 - val_loss: 0.0281 - val_categorical_accuracy: 0.8388\n",
            "Epoch 3/10\n",
            "334/334 [==============================] - 146s 438ms/step - loss: 0.0372 - categorical_accuracy: 0.7512 - val_loss: 0.0249 - val_categorical_accuracy: 0.8536\n",
            "Epoch 4/10\n",
            "334/334 [==============================] - 146s 438ms/step - loss: 0.0343 - categorical_accuracy: 0.7720 - val_loss: 0.0228 - val_categorical_accuracy: 0.8646\n",
            "Epoch 5/10\n",
            "334/334 [==============================] - 147s 439ms/step - loss: 0.0321 - categorical_accuracy: 0.7838 - val_loss: 0.0212 - val_categorical_accuracy: 0.8717\n",
            "Epoch 6/10\n",
            "334/334 [==============================] - 147s 439ms/step - loss: 0.0300 - categorical_accuracy: 0.7992 - val_loss: 0.0199 - val_categorical_accuracy: 0.8774\n",
            "Epoch 7/10\n",
            "334/334 [==============================] - 146s 438ms/step - loss: 0.0285 - categorical_accuracy: 0.8104 - val_loss: 0.0190 - val_categorical_accuracy: 0.8815\n",
            "Epoch 8/10\n",
            "334/334 [==============================] - 146s 437ms/step - loss: 0.0276 - categorical_accuracy: 0.8162 - val_loss: 0.0182 - val_categorical_accuracy: 0.8862\n",
            "Epoch 9/10\n",
            "334/334 [==============================] - 145s 434ms/step - loss: 0.0262 - categorical_accuracy: 0.8260 - val_loss: 0.0175 - val_categorical_accuracy: 0.8886\n",
            "Epoch 10/10\n",
            "334/334 [==============================] - 145s 434ms/step - loss: 0.0253 - categorical_accuracy: 0.8306 - val_loss: 0.0169 - val_categorical_accuracy: 0.8930\n",
            "Rajesh Kumar model has successfully trained\n"
          ],
          "name": "stdout"
        }
      ]
    },
    {
      "cell_type": "code",
      "metadata": {
        "colab": {
          "base_uri": "https://localhost:8080/"
        },
        "id": "5toH1eEb_sqh",
        "outputId": "1cbd191d-dd9c-4780-df46-dc0f7911c069"
      },
      "source": [
        "score = model.evaluate(x_test, y_test, verbose=0)\n",
        "print('Test loss:', score[0])\n",
        "print('Test accuracy:', score[1])"
      ],
      "execution_count": 26,
      "outputs": [
        {
          "output_type": "stream",
          "text": [
            "Test loss: 0.016927149146795273\n",
            "Test accuracy: 0.8930000066757202\n"
          ],
          "name": "stdout"
        }
      ]
    },
    {
      "cell_type": "code",
      "metadata": {
        "id": "Eg-FGJldAXp6"
      },
      "source": [
        "pred = model.predict(x_test) \n",
        "pred = np.argmax(pred, axis = 1)[:5] \n",
        "label = np.argmax(y_test,axis = 1)[:5] \n",
        "\n",
        "print(pred) \n",
        "print(label)"
      ],
      "execution_count": null,
      "outputs": []
    },
    {
      "cell_type": "code",
      "metadata": {
        "id": "gCLgcWnpFhdP"
      },
      "source": [
        ""
      ],
      "execution_count": null,
      "outputs": []
    }
  ]
}